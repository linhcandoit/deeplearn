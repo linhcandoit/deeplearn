{
 "cells": [
  {
   "cell_type": "code",
   "execution_count": 1,
   "metadata": {},
   "outputs": [],
   "source": [
    "import torch\n",
    "from d2l import torch as d2l"
   ]
  },
  {
   "cell_type": "code",
   "execution_count": 2,
   "metadata": {},
   "outputs": [],
   "source": [
    "def softmax(X):\n",
    "    X_exp = torch.exp(X)\n",
    "    partition = X_exp.sum(1, keepdim= True)\n",
    "    return X_exp / partition"
   ]
  },
  {
   "cell_type": "code",
   "execution_count": 4,
   "metadata": {},
   "outputs": [
    {
     "name": "stdout",
     "output_type": "stream",
     "text": [
      "tensor([[0.0900, 0.2447, 0.6652]])\n"
     ]
    }
   ],
   "source": [
    "X = torch.tensor([[1,2,3]])\n",
    "X_prob = softmax(X)\n",
    "print(X_prob)"
   ]
  },
  {
   "cell_type": "code",
   "execution_count": 7,
   "metadata": {},
   "outputs": [],
   "source": [
    "class SoftmaxRegressionScratch(d2l.Classifier):\n",
    "    def __init__(self, num_input, num_output, lr, sigma = 0.01):\n",
    "        super().__init__()\n",
    "        self.save_hyperparameters()\n",
    "        self.W = torch.normal(0,sigma, size=(num_input, num_output), requires_grad= True)\n",
    "        self.b = torch.zeros(size=num_output, requires_grad= True)\n",
    "\n",
    "    def parameters(self):\n",
    "        return (self.W, self.b)"
   ]
  },
  {
   "cell_type": "code",
   "execution_count": 8,
   "metadata": {},
   "outputs": [],
   "source": [
    "@d2l.add_to_class(SoftmaxRegressionScratch)\n",
    "def forward(self, X):\n",
    "    X = X.reshape((-1, self.W.shape[0]))\n",
    "    return softmax(torch.matmul(X, self.W) + self.b)"
   ]
  },
  {
   "cell_type": "code",
   "execution_count": 10,
   "metadata": {},
   "outputs": [],
   "source": [
    "def cross_entropy(y_hat, y):\n",
    "    return -torch.log(y_hat[list(range(len(y_hat))), y]).mean()"
   ]
  },
  {
   "cell_type": "code",
   "execution_count": 11,
   "metadata": {},
   "outputs": [
    {
     "name": "stdout",
     "output_type": "stream",
     "text": [
      "tensor(1.4979)\n"
     ]
    }
   ],
   "source": [
    "y = torch.tensor([0,2])\n",
    "y_hat = torch.tensor([[0.1, 0.3, 0.6], [0.2, 0.3, 0.5]])\n",
    "\n",
    "loss = cross_entropy(y_hat, y)\n",
    "print(loss)"
   ]
  }
 ],
 "metadata": {
  "kernelspec": {
   "display_name": "d2l",
   "language": "python",
   "name": "python3"
  },
  "language_info": {
   "codemirror_mode": {
    "name": "ipython",
    "version": 3
   },
   "file_extension": ".py",
   "mimetype": "text/x-python",
   "name": "python",
   "nbconvert_exporter": "python",
   "pygments_lexer": "ipython3",
   "version": "3.9.18"
  }
 },
 "nbformat": 4,
 "nbformat_minor": 2
}
